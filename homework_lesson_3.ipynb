{
 "cells": [
  {
   "cell_type": "code",
   "execution_count": null,
   "id": "c12680c3",
   "metadata": {},
   "outputs": [],
   "source": [
    "from datetime import datetime\n",
    "\n",
    "birth_date = datetime.strptime(\n",
    "    input(\n",
    "        'Веддите дату рождения в формате dd.mm.yyyy '\n",
    "    ), \"%d.%m.%Y\"\n",
    ")\n",
    "today = datetime.today()\n",
    "\n",
    "if(\n",
    "    today.month == birth_date.month\n",
    "    and today.day >= birth_date.day\n",
    "    or today.month > birth_date.month\n",
    "):\n",
    "    next_birthday = today.year + 1\n",
    "                                 #прибавили 1 год т.к др уже было\n",
    "else:\n",
    "    next_birthday = today.year\n",
    "if(\n",
    "    today.year == next_birthday\n",
    "):\n",
    "    next_birthday = datetime(today.year, birth_date.month, birth_date.day)\n",
    "    age = today.year - birth_date.year - 1\n",
    "                                        # отняли 1 год, тк др еще не было\n",
    "    next_birthday = next_birthday - datetime.today()\n",
    "else:\n",
    "    next_birthday = datetime(next_birthday, birth_date.month, birth_date.day)\n",
    "    age = today.year - birth_date.year\n",
    "    next_birthday = next_birthday - datetime.today()\n",
    "print(f'Ваш день рождения через {next_birthday.days} дней / дня')\n",
    "print(f'Вам сейчас {age}')\n"
   ]
  },
  {
   "cell_type": "code",
   "execution_count": 3,
   "id": "729a262f",
   "metadata": {},
   "outputs": [
    {
     "data": {
      "text/plain": [
       "False"
      ]
     },
     "execution_count": 3,
     "metadata": {},
     "output_type": "execute_result"
    }
   ],
   "source": [
    "import random\n",
    "random_num = random.randint(1,10)\n",
    "lifes = 3\n",
    "user_input=()\n",
    "while user_input != random_num:\n",
    "    print(random_num)\n",
    "    user_input=input(f'число {user_input}')\n",
    "    lifes -= 1\n",
    "    if lifes < 0: break\n",
    "    if (user_input.isdigit()):\n",
    "        if (user_input == random_num):\n",
    "            print('ti maladec')\n",
    "            break\n",
    "        else:\n",
    "            print('neverno')\n",
    "    else:\n",
    "        print('ne chislo')"
   ]
  },
  {
   "cell_type": "code",
   "execution_count": null,
   "id": "8129668f",
   "metadata": {},
   "outputs": [],
   "source": []
  }
 ],
 "metadata": {
  "kernelspec": {
   "display_name": "Python 3 (ipykernel)",
   "language": "python",
   "name": "python3"
  },
  "language_info": {
   "codemirror_mode": {
    "name": "ipython",
    "version": 3
   },
   "file_extension": ".py",
   "mimetype": "text/x-python",
   "name": "python",
   "nbconvert_exporter": "python",
   "pygments_lexer": "ipython3",
   "version": "3.8.10"
  }
 },
 "nbformat": 4,
 "nbformat_minor": 5
}
