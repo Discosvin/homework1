{
 "cells": [
  {
   "cell_type": "code",
   "execution_count": null,
   "id": "f913eda7",
   "metadata": {},
   "outputs": [],
   "source": [
    "#Создать 2 переменные с именем и фамилией. Вывести фразу \"\"\"Меня зовут {имя} {фамилия} и я изучаю пайтон\"\"\"\n",
    "name='Александр'\n",
    "surname='Романчук'\n",
    "print('\"\"\"Меня зовут '+name+' '+surname+' и я изучаю Python\"\"\"')"
   ]
  },
  {
   "cell_type": "code",
   "execution_count": null,
   "id": "0304301f",
   "metadata": {},
   "outputs": [],
   "source": [
    "#Посчитать сколько раз встречается буква \"а\" в данном предложении: \n",
    "#\"\"\"Карл у Клары украл кораллы, а Клара у Карла украла кларнет. Если бы Карл у Клары не украл кораллы, то Клара у Карла не украла б кларнет\"\"\"\n",
    "str1=\"\"\"Карл у Клары украл кораллы, а Клара у Карла украла кларнет. Если бы Карл у Клары не украл кораллы, то Клара у Карла не украла б кларнет\"\"\"\n",
    "print(str1.count(\"а\"))"
   ]
  },
  {
   "cell_type": "code",
   "execution_count": null,
   "id": "197f2223",
   "metadata": {},
   "outputs": [],
   "source": [
    "#Перевести предложение из задачи № 2 в верхний регистр, затем в нижний\n",
    "str1=\"\"\"Карл у Клары украл кораллы, а Клара у Карла украла кларнет. Если бы Карл у Клары не украл кораллы, то Клара у Карла не украла б кларнет\"\"\"\n",
    "print(str1.upper())\n",
    "print(str1.lower())"
   ]
  },
  {
   "cell_type": "code",
   "execution_count": null,
   "id": "3dfb78d1",
   "metadata": {},
   "outputs": [],
   "source": [
    "#Поменять регистр у предложения из задачи №2\n",
    "str1=\"\"\"Карл у Клары украл кораллы, а Клара у Карла украла кларнет. Если бы Карл у Клары не украл кораллы, то Клара у Карла не украла б кларнет\"\"\"\n",
    "swap_str1=str1.swapcase()\n",
    "print(swap_str1)"
   ]
  },
  {
   "cell_type": "code",
   "execution_count": 4,
   "id": "033888b9",
   "metadata": {},
   "outputs": [
    {
     "name": "stdout",
     "output_type": "stream",
     "text": [
      "False\n",
      "True\n"
     ]
    }
   ],
   "source": [
    "# Проверить, есть ил слово \"Кларнет\" в предложении из задачи №2 в разных регистрах\n",
    "str1=\"\"\"Карл у Клары украл кораллы, а Клара у Карла украла кларнет. Если бы Карл у Клары не украл кораллы, то Клара у Карла не украла б кларнет\"\"\"\n",
    "print('КЛАРНЕТ'in str1)\n",
    "print('кларнет'in str1)"
   ]
  },
  {
   "cell_type": "code",
   "execution_count": null,
   "id": "9fd99173",
   "metadata": {},
   "outputs": [],
   "source": []
  }
 ],
 "metadata": {
  "kernelspec": {
   "display_name": "Python 3 (ipykernel)",
   "language": "python",
   "name": "python3"
  },
  "language_info": {
   "codemirror_mode": {
    "name": "ipython",
    "version": 3
   },
   "file_extension": ".py",
   "mimetype": "text/x-python",
   "name": "python",
   "nbconvert_exporter": "python",
   "pygments_lexer": "ipython3",
   "version": "3.8.10"
  }
 },
 "nbformat": 4,
 "nbformat_minor": 5
}
