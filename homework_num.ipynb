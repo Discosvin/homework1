{
 "cells": [
  {
   "cell_type": "code",
   "execution_count": 2,
   "id": "024bbebd",
   "metadata": {},
   "outputs": [
    {
     "name": "stdout",
     "output_type": "stream",
     "text": [
      "0b11111110\n",
      "0o376\n",
      "0xfe\n"
     ]
    }
   ],
   "source": [
    "# записать число в разных системах исчесления\n",
    "print(bin(254))# двоичная\n",
    "print(oct(254))# восьмиричная\n",
    "print(hex(254))# шестнадцатиричная"
   ]
  },
  {
   "cell_type": "code",
   "execution_count": 7,
   "id": "5d59dda7",
   "metadata": {},
   "outputs": [
    {
     "name": "stdout",
     "output_type": "stream",
     "text": [
      "кол-во целых недель в високосном году - 52\n",
      "кол-во лишних дней в високосном году - 2\n",
      "кол-во целых недель в невисокосном году - 52\n",
      "кол-во лишних дней в невисокосном году - 1\n"
     ]
    }
   ],
   "source": [
    "#Посчитать кол-во целых недель в году и сколько дней лишних\n",
    "leap_year=366 #високосный\n",
    "nonleap_year=365 #невисокосный\n",
    "leap_weeks,leap_days=divmod(leap_year,7)#вычисляем результат деления и остаток от него\n",
    "nonleap_weeks,nonleap_days=divmod(nonleap_year,7)\n",
    "print(\"кол-во целых недель в високосном году - {}\".format(leap_weeks))\n",
    "print(\"кол-во лишних дней в високосном году - {}\".format(leap_days))\n",
    "print(\"кол-во целых недель в невисокосном году - {}\".format(nonleap_weeks))\n",
    "print(\"кол-во лишних дней в невисокосном году - {}\".format(nonleap_days))"
   ]
  },
  {
   "cell_type": "code",
   "execution_count": 8,
   "id": "0ed57d46",
   "metadata": {},
   "outputs": [
    {
     "name": "stdout",
     "output_type": "stream",
     "text": [
      "30.5 среднее кол-во дней в високосном году\n",
      "30.42 среднее кол-во дней в невисокосном году\n"
     ]
    }
   ],
   "source": [
    "# Посчитать среднее кол-во дней в месяце с округлением до 2 знаков после запятой\n",
    "# \n",
    "# что-то я намудрил\n",
    "# Без нормально тз результат хз\n",
    "#\n",
    "leap_year=366 #високосный\n",
    "nonleap_year=365 #невисокосный\n",
    "month=12\n",
    "month_days= leap_year/month\n",
    "rounded_month_days= round(month_days,2)\n",
    "print(str(rounded_month_days)+\" среднее кол-во дней в високосном году\")\n",
    "nonleap_month_days= nonleap_year/month\n",
    "rounded_nonleap_month_days=round(nonleap_month_days,2)\n",
    "print(str(rounded_nonleap_month_days)+\" среднее кол-во дней в невисокосном году\")"
   ]
  },
  {
   "cell_type": "code",
   "execution_count": 7,
   "id": "75e128cc",
   "metadata": {},
   "outputs": [
    {
     "name": "stdout",
     "output_type": "stream",
     "text": [
      "8784 - кол-во часов в високосном году\n",
      "8760 - кол-во часов в невисокосном году\n",
      "527040 - кол-во минут в високосном году\n",
      "525600 - кол-во минут в невисокосном году\n",
      "31622400 - кол-во секунд в високосном году\n",
      "31536000 - кол-во секунд в невисокосном году\n"
     ]
    }
   ],
   "source": [
    "# Посчитать количество часов, минут и секунд в году\n",
    "leap_year=366 #високосный\n",
    "nonleap_year=365 #невисокосный\n",
    "leap_hours=leap_year*24\n",
    "nonleap_hours=nonleap_year*24\n",
    "leap_min=leap_hours*60\n",
    "nonleap_min=nonleap_hours*60\n",
    "leap_sec=leap_min*60\n",
    "nonleap_sec=nonleap_min*60\n",
    "print(str(leap_hours)+\" - кол-во часов в високосном году\")\n",
    "print(str(nonleap_hours)+\" - кол-во часов в невисокосном году\")\n",
    "print(str(leap_min)+\" - кол-во минут в високосном году\")\n",
    "print(str(nonleap_min)+\" - кол-во минут в невисокосном году\")\n",
    "print(str(leap_sec)+ \" - кол-во секунд в високосном году\")\n",
    "print(str(nonleap_sec)+\" - кол-во секунд в невисокосном году\")\n"
   ]
  },
  {
   "cell_type": "code",
   "execution_count": 25,
   "id": "049fb48d",
   "metadata": {},
   "outputs": [
    {
     "name": "stdout",
     "output_type": "stream",
     "text": [
      "8.06225774829855\n"
     ]
    }
   ],
   "source": [
    "#Вычислить гипотенузу треугольника с катетами 4 и 7\n",
    "kat1=4\n",
    "kv_kat1=4**2\n",
    "kat2=7\n",
    "kv_kat2=7**2\n",
    "kv_gip=kv_kat1+kv_kat2\n",
    "gip=kv_gip**0.5\n",
    "print(gip)"
   ]
  },
  {
   "cell_type": "code",
   "execution_count": 29,
   "id": "247f1735",
   "metadata": {},
   "outputs": [
    {
     "name": "stdout",
     "output_type": "stream",
     "text": [
      "4\n",
      "8.06225774829855\n",
      "19.06225774829855\n"
     ]
    }
   ],
   "source": [
    "#Вычислить сумму всех сторон треугольника из задачи №5, максимальное и минимальное значение\n",
    "\n",
    "min_num=min(kat1,kat2,gip)\n",
    "max_num=max(kat1,kat2,gip)\n",
    "summ_num=sum([kat1,kat2,gip])\n",
    "print(min_num)\n",
    "print(max_num)\n",
    "print(summ_num)"
   ]
  },
  {
   "cell_type": "code",
   "execution_count": null,
   "id": "5b615c66",
   "metadata": {},
   "outputs": [],
   "source": []
  }
 ],
 "metadata": {
  "kernelspec": {
   "display_name": "Python 3 (ipykernel)",
   "language": "python",
   "name": "python3"
  },
  "language_info": {
   "codemirror_mode": {
    "name": "ipython",
    "version": 3
   },
   "file_extension": ".py",
   "mimetype": "text/x-python",
   "name": "python",
   "nbconvert_exporter": "python",
   "pygments_lexer": "ipython3",
   "version": "3.8.10"
  }
 },
 "nbformat": 4,
 "nbformat_minor": 5
}
