{
 "cells": [
  {
   "cell_type": "code",
   "execution_count": null,
   "id": "7d8a00dc",
   "metadata": {},
   "outputs": [],
   "source": [
    "# ********************************** Числа (неизменяемые) **********************************"
   ]
  },
  {
   "cell_type": "code",
   "execution_count": 1,
   "id": "bb6202b0",
   "metadata": {},
   "outputs": [
    {
     "name": "stdout",
     "output_type": "stream",
     "text": [
      "10\n",
      "<class 'int'>\n",
      "2\n",
      "<class 'int'>\n",
      "8\n",
      "16\n"
     ]
    }
   ],
   "source": [
    "# ==================================== Простое число (integer) ====================================\n",
    "\n",
    "print(10)\n",
    "print(type(10))\n",
    "\n",
    "# 0b - суффикс для числа в двоичной системе (binary)\n",
    "print(0b10)\n",
    "print(type(0b10))\n",
    "\n",
    "# 0o - суффикс для числа в восьмиричной системе (octal)\n",
    "print(0o10)\n",
    "\n",
    "# 0x - суффикс для числа в шестнадцатиричной системе (hexadecimal)\n",
    "print(0x10)\n"
   ]
  },
  {
   "cell_type": "code",
   "execution_count": 2,
   "id": "8f3cebfd",
   "metadata": {},
   "outputs": [
    {
     "name": "stdout",
     "output_type": "stream",
     "text": [
      "0b1010\n",
      "0o12\n",
      "0xa\n"
     ]
    }
   ],
   "source": [
    "# написать число из десятичной системы в других системах исчисления\n",
    "# в двоичной\n",
    "print(bin(10))\n",
    "\n",
    "# в восьмиричной\n",
    "print(oct(10))\n",
    "\n",
    "# в шестнадцатиричной\n",
    "print(hex(10))"
   ]
  },
  {
   "cell_type": "code",
   "execution_count": 5,
   "id": "f820e912",
   "metadata": {},
   "outputs": [
    {
     "name": "stdout",
     "output_type": "stream",
     "text": [
      "4.2\n",
      "<class 'float'>\n",
      "200000.0\n",
      "<class 'float'>\n",
      "-1.1102230246251565e-16\n",
      "2\n"
     ]
    }
   ],
   "source": [
    "# ==================================== Число с плавающей точкой (float) ====================================\n",
    "\n",
    "print(4.2)\n",
    "print(type(4.2))\n",
    "\n",
    "# Можно использовать запись с e (siencific notation)\n",
    "print(2e5)  # 2 * 10**5\n",
    "print(type(2e5))\n",
    "\n",
    "\n",
    "# float хранится в памяти как двоичная дробь, поэтому очень часто это не точное представление числа. Например\n",
    "print(0.7 + 0.2 - 0.9)\n",
    "\n",
    "print(int(1.999999999999999999999999))\n",
    "\n",
    "# Также есть Decimal (будет рассмотрен позже, помогает округлять числа правильно и не только) и \n",
    "# Complex (комплексные числа x + yj)"
   ]
  },
  {
   "cell_type": "code",
   "execution_count": null,
   "id": "a8c685cd",
   "metadata": {},
   "outputs": [],
   "source": [
    "# ==================================== Операции с числами ===================================="
   ]
  },
  {
   "cell_type": "code",
   "execution_count": 6,
   "id": "9b90c281",
   "metadata": {},
   "outputs": [
    {
     "name": "stdout",
     "output_type": "stream",
     "text": [
      "8\n"
     ]
    }
   ],
   "source": [
    "# Сложение\n",
    "a = 5\n",
    "b = 3\n",
    "c = a + b\n",
    "print(c)"
   ]
  },
  {
   "cell_type": "code",
   "execution_count": 8,
   "id": "3362b5b0",
   "metadata": {},
   "outputs": [
    {
     "name": "stdout",
     "output_type": "stream",
     "text": [
      "5  ->  140319707883952\n",
      "8  ->  140319707884048\n"
     ]
    }
   ],
   "source": [
    "# Сложение на месте(создается новый объект)\n",
    "a = 5\n",
    "print(a, \" -> \", id(a))\n",
    "b = 3\n",
    "a = a + b # (то же что и a = a + b)\n",
    "print(a, \" -> \", id(a))"
   ]
  },
  {
   "cell_type": "code",
   "execution_count": 3,
   "id": "c1c7fc57",
   "metadata": {},
   "outputs": [
    {
     "name": "stdout",
     "output_type": "stream",
     "text": [
      "2\n"
     ]
    }
   ],
   "source": [
    "# Вычитание\n",
    "a = 5\n",
    "b = 3\n",
    "c = a - b\n",
    "print(c)\n"
   ]
  },
  {
   "cell_type": "code",
   "execution_count": 5,
   "id": "9774881c",
   "metadata": {},
   "outputs": [
    {
     "name": "stdout",
     "output_type": "stream",
     "text": [
      "5  ->  139778197461424\n",
      "2  ->  139778197461328\n"
     ]
    }
   ],
   "source": [
    "# Вычитание на месте(создается новый объект)\n",
    "a = 5\n",
    "print(a, \" -> \", id(a))\n",
    "b = 3\n",
    "a -= b  # (то же что и a = a - b)\n",
    "print(a, \" -> \", id(a))"
   ]
  },
  {
   "cell_type": "code",
   "execution_count": 10,
   "id": "2f91efe9",
   "metadata": {},
   "outputs": [
    {
     "name": "stdout",
     "output_type": "stream",
     "text": [
      "17.5\n",
      "<class 'float'>\n"
     ]
    }
   ],
   "source": [
    "# Умножение\n",
    "a = 5\n",
    "b = 3.0\n",
    "c = a * b\n",
    "print(c)\n",
    "print(type(c))"
   ]
  },
  {
   "cell_type": "code",
   "execution_count": 12,
   "id": "2248d1b0",
   "metadata": {},
   "outputs": [
    {
     "name": "stdout",
     "output_type": "stream",
     "text": [
      "5  ->  139778197461424\n",
      "-15  ->  139778107981008\n"
     ]
    }
   ],
   "source": [
    "# Умножение на месте(создается новый объект)\n",
    "a = 5\n",
    "print(a, \" -> \", id(a))\n",
    "b = -3\n",
    "a *= b  # (то же что и a = a * b)\n",
    "print(a, \" -> \", id(a))"
   ]
  },
  {
   "cell_type": "code",
   "execution_count": 13,
   "id": "3a0f9b9b",
   "metadata": {},
   "outputs": [
    {
     "name": "stdout",
     "output_type": "stream",
     "text": [
      "125\n"
     ]
    }
   ],
   "source": [
    "# Возведение в степень\n",
    "a = 5\n",
    "b = 3\n",
    "c = a ** b\n",
    "print(c)"
   ]
  },
  {
   "cell_type": "code",
   "execution_count": 14,
   "id": "515bf476",
   "metadata": {},
   "outputs": [
    {
     "name": "stdout",
     "output_type": "stream",
     "text": [
      "5  ->  139778197461424\n",
      "125  ->  139778197653744\n"
     ]
    }
   ],
   "source": [
    "# Возведение в степень на месте(создается новый объект)\n",
    "a = 5\n",
    "print(a, \" -> \", id(a))\n",
    "b = 3\n",
    "a **= b  # (то же что и a = a ** b)\n",
    "print(a, \" -> \", id(a))"
   ]
  },
  {
   "cell_type": "code",
   "execution_count": 16,
   "id": "25ee484c",
   "metadata": {},
   "outputs": [
    {
     "name": "stdout",
     "output_type": "stream",
     "text": [
      "125\n"
     ]
    }
   ],
   "source": [
    "# Возведение в степень при помощи встроенной функции pow()\n",
    "a = 5\n",
    "b = 3\n",
    "c = pow(5, 3)\n",
    "print(c)"
   ]
  },
  {
   "cell_type": "code",
   "execution_count": 17,
   "id": "62e329dc",
   "metadata": {},
   "outputs": [
    {
     "name": "stdout",
     "output_type": "stream",
     "text": [
      "-3.0\n"
     ]
    }
   ],
   "source": [
    "# Деление (возвращае float)\n",
    "a = 6\n",
    "b = 2\n",
    "c = a / -b\n",
    "print(c)\n"
   ]
  },
  {
   "cell_type": "code",
   "execution_count": 18,
   "id": "9865d5a8",
   "metadata": {},
   "outputs": [
    {
     "name": "stdout",
     "output_type": "stream",
     "text": [
      "5  ->  139778197461424\n",
      "1.6666666666666667  ->  139778107980976\n"
     ]
    }
   ],
   "source": [
    "# Деление на месте(создается новый объект)\n",
    "a = 5\n",
    "print(a, \" -> \", id(a))\n",
    "b = 3\n",
    "a /= b  # (то же что и a = a / b)\n",
    "print(a, \" -> \", id(a))"
   ]
  },
  {
   "cell_type": "code",
   "execution_count": 19,
   "id": "899b6152",
   "metadata": {},
   "outputs": [
    {
     "name": "stdout",
     "output_type": "stream",
     "text": [
      "2\n"
     ]
    }
   ],
   "source": [
    "# Деление с округлением вниз (до меньшего целого). Если один из аргументов float - результатом будет float\n",
    "a = 5\n",
    "b = 2\n",
    "d = a // b\n",
    "print(d)"
   ]
  },
  {
   "cell_type": "code",
   "execution_count": 22,
   "id": "167b5605",
   "metadata": {},
   "outputs": [
    {
     "name": "stdout",
     "output_type": "stream",
     "text": [
      "5  ->  139778197461424\n",
      "2  ->  139778197461328\n"
     ]
    }
   ],
   "source": [
    "# Деление с округлением вниз на месте (создается новый объект)\n",
    "a = 5\n",
    "print(a, \" -> \", id(a))\n",
    "b = 2\n",
    "a //= b  # (то же что и a = a // b)\n",
    "print(a, \" -> \", id(a))"
   ]
  },
  {
   "cell_type": "code",
   "execution_count": 24,
   "id": "795100c1",
   "metadata": {},
   "outputs": [
    {
     "name": "stdout",
     "output_type": "stream",
     "text": [
      "1\n"
     ]
    }
   ],
   "source": [
    "# Остаток от деления. Если один из аргументов float - результатом будет float\n",
    "a = 5\n",
    "b = 2\n",
    "c = a % b\n",
    "print(c)"
   ]
  },
  {
   "cell_type": "code",
   "execution_count": 25,
   "id": "f91e45dd",
   "metadata": {},
   "outputs": [
    {
     "name": "stdout",
     "output_type": "stream",
     "text": [
      "5  ->  139778197461424\n",
      "1  ->  139778197461296\n"
     ]
    }
   ],
   "source": [
    "# Деление с округлением вниз на месте (создается новый объект)\n",
    "a = 5\n",
    "print(a, \" -> \", id(a))\n",
    "b = 2\n",
    "a %= b  # (то же что и a = a % b)\n",
    "print(a, \" -> \", id(a))"
   ]
  },
  {
   "cell_type": "code",
   "execution_count": 26,
   "id": "6969e15e",
   "metadata": {},
   "outputs": [
    {
     "name": "stdout",
     "output_type": "stream",
     "text": [
      "2\n",
      "1\n"
     ]
    }
   ],
   "source": [
    "# Деление при помощи divmod()\n",
    "a = 5\n",
    "b = 2\n",
    "# (quotient = a // b, reminder = a % b)\n",
    "quotient, reminder = divmod(a, b) \n",
    "print(quotient)\n",
    "print(reminder)"
   ]
  },
  {
   "cell_type": "code",
   "execution_count": 27,
   "id": "7a9ba971",
   "metadata": {},
   "outputs": [
    {
     "name": "stdout",
     "output_type": "stream",
     "text": [
      "3.0\n"
     ]
    }
   ],
   "source": [
    "# Извлечение корня\n",
    "a = 9 ** 0.5\n",
    "print(a)\n"
   ]
  },
  {
   "cell_type": "code",
   "execution_count": 28,
   "id": "9c76cc9e",
   "metadata": {},
   "outputs": [
    {
     "name": "stdout",
     "output_type": "stream",
     "text": [
      "3\n"
     ]
    }
   ],
   "source": [
    "# Максимальное из чисел\n",
    "max_num = max(1, 2, 3)\n",
    "print(max_num)\n"
   ]
  },
  {
   "cell_type": "code",
   "execution_count": 29,
   "id": "82f38902",
   "metadata": {},
   "outputs": [
    {
     "name": "stdout",
     "output_type": "stream",
     "text": [
      "1\n"
     ]
    }
   ],
   "source": [
    "# Минимальное из чисел\n",
    "min_num = min(1, 2, 3)\n",
    "print(min_num)"
   ]
  },
  {
   "cell_type": "code",
   "execution_count": 30,
   "id": "3b0d6132",
   "metadata": {},
   "outputs": [
    {
     "name": "stdout",
     "output_type": "stream",
     "text": [
      "6\n"
     ]
    }
   ],
   "source": [
    "# Сумма чисел чисел\n",
    "sum_num = sum([1, 2, 3])\n",
    "print(sum_num)"
   ]
  },
  {
   "cell_type": "code",
   "execution_count": 33,
   "id": "4a6454de",
   "metadata": {},
   "outputs": [
    {
     "name": "stdout",
     "output_type": "stream",
     "text": [
      "0.6666666666666666\n",
      "0.66666667\n"
     ]
    }
   ],
   "source": [
    "# Округление\n",
    "num = 2 / 3\n",
    "print(num)\n",
    "# 2 параметр - количество знаков после запятой. Внимание - python округляет к ближайшему четному числу\n",
    "rounded_num = round(num, 2)\n",
    "print(rounded_num)"
   ]
  },
  {
   "cell_type": "code",
   "execution_count": null,
   "id": "7609a49f",
   "metadata": {},
   "outputs": [],
   "source": [
    "Задание\n",
    "1. Записать число 254 в разных системах исчесления\n",
    "2. Посчитать количество целых недель в году и сколько дней \"лишних\"\n",
    "3. Посчитать среднее количество дней в месяце с окрулением до 2 знаков после запятой\n",
    "4. Посчитать количество часов, минут и секунд в году\n",
    "5. Вычислить гипотенузу треугольника с катетами 4 и 7\n",
    "6. Вычислить сумму всех сторон треугольника из задачи №3, максимальное и минимальное значение"
   ]
  }
 ],
 "metadata": {
  "kernelspec": {
   "display_name": "Python 3 (ipykernel)",
   "language": "python",
   "name": "python3"
  },
  "language_info": {
   "codemirror_mode": {
    "name": "ipython",
    "version": 3
   },
   "file_extension": ".py",
   "mimetype": "text/x-python",
   "name": "python",
   "nbconvert_exporter": "python",
   "pygments_lexer": "ipython3",
   "version": "3.8.10"
  }
 },
 "nbformat": 4,
 "nbformat_minor": 5
}
