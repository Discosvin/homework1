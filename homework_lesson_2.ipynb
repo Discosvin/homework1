{
 "cells": [
  {
   "cell_type": "code",
   "execution_count": null,
   "id": "b1fadb39",
   "metadata": {
    "scrolled": true
   },
   "outputs": [],
   "source": [
    "username = input('Ведите имя и фамилию ').title()\n",
    "username = tuple(username.split())\n",
    "user='_'.join(username)\n",
    "user=user.lower()\n",
    "user_dict = {user:{\n",
    "    'name':username[0].title(),\n",
    "    'surname':username[1].title()\n",
    "}\n",
    "          }\n",
    "print('Привет ' + user_dict[user]['name'] + ' твое имя в системе ' + user)"
   ]
  },
  {
   "cell_type": "code",
   "execution_count": null,
   "id": "24106411",
   "metadata": {},
   "outputs": [],
   "source": [
    "for num in range(100):\n",
    "    if num%3==0:\n",
    "     print(num)\n",
    "for num in range(100):\n",
    "    if num%9==0:\n",
    "     print(num)\n",
    "  "
   ]
  },
  {
   "cell_type": "code",
   "execution_count": null,
   "id": "416182f6",
   "metadata": {},
   "outputs": [],
   "source": [
    "i=0\n",
    "while i<100:\n",
    "    i+=1\n",
    "    if i%3==0:\n",
    "      print(i)\n",
    "    if i>100:\n",
    "     break\n",
    "i=0\n",
    "while i<100:\n",
    "    i+=1\n",
    "    if i%9==0:\n",
    "      print(i)\n",
    "    if i>100:\n",
    "     break"
   ]
  },
  {
   "cell_type": "code",
   "execution_count": null,
   "id": "eca131e0",
   "metadata": {},
   "outputs": [],
   "source": []
  }
 ],
 "metadata": {
  "kernelspec": {
   "display_name": "Python 3 (ipykernel)",
   "language": "python",
   "name": "python3"
  },
  "language_info": {
   "codemirror_mode": {
    "name": "ipython",
    "version": 3
   },
   "file_extension": ".py",
   "mimetype": "text/x-python",
   "name": "python",
   "nbconvert_exporter": "python",
   "pygments_lexer": "ipython3",
   "version": "3.8.10"
  }
 },
 "nbformat": 4,
 "nbformat_minor": 5
}
